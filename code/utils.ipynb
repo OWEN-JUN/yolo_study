{
  "nbformat": 4,
  "nbformat_minor": 0,
  "metadata": {
    "colab": {
      "name": "utils.ipynb",
      "provenance": [],
      "collapsed_sections": [],
      "authorship_tag": "ABX9TyMmVLvr+hJSKPfwcnGZ18Tc",
      "include_colab_link": true
    },
    "kernelspec": {
      "name": "python3",
      "display_name": "Python 3"
    }
  },
  "cells": [
    {
      "cell_type": "markdown",
      "metadata": {
        "id": "view-in-github",
        "colab_type": "text"
      },
      "source": [
        "<a href=\"https://colab.research.google.com/github/OWEN-JUN/yolo_study/blob/main/code/utils.ipynb\" target=\"_parent\"><img src=\"https://colab.research.google.com/assets/colab-badge.svg\" alt=\"Open In Colab\"/></a>"
      ]
    },
    {
      "cell_type": "code",
      "metadata": {
        "id": "6IP80S7OijFK"
      },
      "source": [
        "import cv2\r\n",
        "import numpy as np\r\n",
        "import tensorflow as tf\r\n",
        "import colorsys\r\n",
        "from operator import itemgetter"
      ],
      "execution_count": 1,
      "outputs": []
    },
    {
      "cell_type": "code",
      "metadata": {
        "id": "oRa_qFxJi4NV"
      },
      "source": [
        "def iou(yolo_pred_boxes, ground_truth_boxes):\r\n",
        "  boxes1 = yolo_pred_boxes\r\n",
        "  boxes2 = ground_truth_boxes\r\n",
        "\r\n",
        "  boxes1 = tf.stack([boxes1[:,:,:,0] - boxes1[:,:,:,2]/2 , boxes1[:,:,:,1] - boxes1[:,:,:,3]/2 , boxes1[:,:,:,0] + boxes1[:,:,:,2]/2, boxes1[:,:,:,1] + boxes1[:,:,:,3] / 2])\r\n",
        "  #[x-w/2 , y-h/2 , x+w/2 , y+h/2]\r\n",
        "  boxes1 = tf.transpose(boxes1, [1,2,3,0])\r\n",
        "  #[4,cell_size,cell_size,boxes_per_cell] => [cell_size,boxes_per_cell, cell_size, 4 ]\r\n",
        "  \r\n",
        "  \r\n",
        "  boxes2 = tf.stack([boxes2[0]-boxes2[2]/2 , boxes2[1]-boxes2[3]/2 , boxes2[0]+boxes2[2]/2 , boxes2[1]+boxes2[3]/2])\r\n",
        "  #[x-w/2 , y-h/2 , x+w/2 , y+h/2]\r\n",
        "  boxes2 = tf.cast(boxes2,tf.float32)\r\n",
        " \r\n",
        "\r\n",
        "  #calculate the left & right point\r\n",
        "  lu = tf.maximum(boxes1[:,:,:,0:2], boxes2[0:2])\r\n",
        "  rd = tf.minimum(boxes1[:,:,:,2:], boxes2[2:])\r\n",
        "\r\n",
        "  #intersection\r\n",
        "  intersection = rd - lu\r\n",
        "\r\n",
        "  inter_square = intersection[:,:,:,0] * intersection[:,:,:,1]\r\n",
        "  mask = tf.cast(intersection[:,:,:,0]> 0 , tf.float32) * tf.cast(intersection[:,:,:,1]> 0 , tf.float32)\r\n",
        "\r\n",
        "  inter_square = mask * inter_square\r\n",
        "\r\n",
        "  #calculate area of union\r\n",
        "  square1 = (boxes1[:,:,:,2]-boxes1[:,:,:,0]) * (boxes1[:,:,:,3]-boxes1[:,:,:,1])\r\n",
        "  square2 = (boxes2[2] - boxes2[0]) * (boxes2[3] - boxes2[1])\r\n",
        "\r\n",
        "  return inter_square / (square1 + square2 - inter_square + 1e-7) "
      ],
      "execution_count": 8,
      "outputs": []
    },
    {
      "cell_type": "code",
      "metadata": {
        "id": "DRQL0OI1eo9X"
      },
      "source": [
        ""
      ],
      "execution_count": null,
      "outputs": []
    }
  ]
}